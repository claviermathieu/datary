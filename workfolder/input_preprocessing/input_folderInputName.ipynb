{
 "cells": [
  {
   "cell_type": "markdown",
   "metadata": {},
   "source": [
    "# Folder : folderInputName\n",
    "\n",
    "The application can only take a specific input format. Normally, we get all the data with the same format for the same treatment. But sometimes, there is troubles, for example during the generation of the data, that can bring specificities to a special data export.\n",
    "\n",
    "In this case, each special input format need to be retreat to transform them to match exactly the input format required."
   ]
  },
  {
   "cell_type": "code",
   "execution_count": null,
   "metadata": {},
   "outputs": [],
   "source": []
  }
 ],
 "metadata": {
  "language_info": {
   "name": "python"
  },
  "orig_nbformat": 4
 },
 "nbformat": 4,
 "nbformat_minor": 2
}
